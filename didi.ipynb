{
 "cells": [
  {
   "cell_type": "markdown",
   "metadata": {},
   "source": [
    "#### Intro:\n",
    "This project is for DiDi's competition. The objective is to predict the gap at certain times of the day, guranteed that the order information for the past 30 minutes is available.\n",
    "\n",
    "First we want to have benchmarks or methods to evaluate the forcasting model. There are four method that we will test our models against. These are:\n",
    "\n",
    "1- The Average Method.<br />\n",
    "    Function: avg(a) <br />\n",
    "    Residual: 403319.11\n",
    "\n",
    "2- The Naive Method.<br />\n",
    "    Function: naive(a,t) <br />\n",
    "    <b>Residual: 153494</b>\n",
    "\n",
    "3- The Seasonal Naive Method.<br />\n",
    "    Function: season_naive(a) <br />\n",
    "    Residual: 163499\n",
    "\n",
    "4- The Drift Method.<br />\n",
    "    Function: drift(a)"
   ]
  },
  {
   "cell_type": "code",
   "execution_count": 2,
   "metadata": {
    "collapsed": false
   },
   "outputs": [
    {
     "name": "stdout",
     "output_type": "stream",
     "text": [
      "Using matplotlib backend: Qt4Agg\n",
      "Populating the interactive namespace from numpy and matplotlib\n",
      "Populating the interactive namespace from numpy and matplotlib\n"
     ]
    },
    {
     "name": "stderr",
     "output_type": "stream",
     "text": [
      "/home/sahabi/miniconda/envs/data/lib/python2.7/site-packages/matplotlib/font_manager.py:273: UserWarning: Matplotlib is building the font cache using fc-list. This may take a moment.\n",
      "  warnings.warn('Matplotlib is building the font cache using fc-list. This may take a moment.')\n"
     ]
    }
   ],
   "source": [
    "# Import pylab to provide scientific Python libraries (NumPy, SciPy, Matplotlib)\n",
    "%pylab --no-import-all\n",
    "#import pylab as pl\n",
    "# import the Image display module\n",
    "from IPython.display import Image\n",
    "import itertools\n",
    "# inline allows us to embed matplotlib figures directly into the IPython notebook\n",
    "%pylab inline\n",
    "import pandas as pd\n",
    "import numpy as np\n",
    "import matplotlib.pyplot as plt\n",
    "from math import ceil\n",
    "from datetime import datetime\n",
    "from os import listdir\n",
    "from os.path import isfile, join\n",
    "from numpy.linalg import norm"
   ]
  },
  {
   "cell_type": "code",
   "execution_count": 3,
   "metadata": {
    "collapsed": true
   },
   "outputs": [],
   "source": [
    "def avg(a):\n",
    "    return np.mean(a, axis=0)\n",
    "\n",
    "def naive(a,t):\n",
    "    return a[a.shape[0]-t,:]\n",
    "\n",
    "def convert_date(t):\n",
    "    d = datetime.strptime(t, '%Y-%m-%d %H:%M:%S')\n",
    "    day = int(d.strftime('%d'))\n",
    "    hour = int(d.strftime('%H'))\n",
    "    minute = int(d.strftime('%M'))\n",
    "    index = (day-1)*144 + ((minute%10)+1) + hour*6\n",
    "    return index"
   ]
  },
  {
   "cell_type": "code",
   "execution_count": null,
   "metadata": {
    "collapsed": false
   },
   "outputs": [],
   "source": [
    "frames = []\n",
    "mypath = '/media/sahabi/Shared Storage/season_1/training_data/order_data'\n",
    "onlyfiles = [f for f in listdir(mypath) if isfile(join(mypath, f))]\n",
    "for i,files in enumerate(onlyfiles):\n",
    "    data = '/media/sahabi/Shared Storage/season_1/training_data/order_data/'+files\n",
    "    order_data = pd.read_csv(data,sep='\\t',names=['order_id','driver_id','passenger_id','start_district_hash','dest_district_hash','Price','Time'])\n",
    "    frames.append(order_data)\n",
    "    if i ==140:\n",
    "        break\n",
    "\n",
    "result = pd.concat(frames)\n",
    "order_data=result.fillna(0)\n",
    "order_data['t_ind'] = order_data.Time.apply(convert_date)"
   ]
  },
  {
   "cell_type": "code",
   "execution_count": null,
   "metadata": {
    "collapsed": true
   },
   "outputs": [],
   "source": [
    "districts = order_data['start_district_hash'].unique()\n",
    "districts = ['4725c39a5e5f4c188d382da3910b3f3f']\n",
    "for j in districts:\n",
    "    demand = []\n",
    "    supply = []\n",
    "    gap = []\n",
    "    for i in order_data['t_ind'].unique():\n",
    "        try:\n",
    "            demand.append(order_data['start_district_hash'][(order_data.t_ind == i) & (order_data.start_district_hash==j)].value_counts()[0])\n",
    "        except:\n",
    "            demand.append(0)\n",
    "        try:\n",
    "            supply.append(order_data['start_district_hash'][(order_data.t_ind == i) & (order_data.start_district_hash==j) & \n",
    "                                                        (order_data.driver_id!=0)].value_counts()[0])\n",
    "        except:\n",
    "            supply.append(0)\n",
    "        try:\n",
    "            gap.append(order_data['start_district_hash'][(order_data.t_ind == i) & (order_data.start_district_hash==j) & \n",
    "                                                      (order_data.driver_id==0)].value_counts()[0])\n",
    "        except:\n",
    "            gap.append(0)"
   ]
  },
  {
   "cell_type": "code",
   "execution_count": null,
   "metadata": {
    "collapsed": false
   },
   "outputs": [],
   "source": [
    "a = np.array([demand[:len(demand)-3],supply[:len(supply)-3],gap[:len(gap)-3],demand[1:len(demand)-2],\n",
    "             supply[1:len(supply)-2],gap[1:len(gap)-2],demand[2:len(demand)-1],supply[2:len(supply)-1],\n",
    "             gap[2:len(gap)-1]])\n",
    "\n",
    "y_avg = avg(a)\n",
    "y_naive = naive(a,1)\n",
    "ts_avg = np.concatenate((gap[:3], y_avg))\n",
    "ts_naive = np.concatenate((gap[:3],y_naive))\n",
    "ts_season_naive = np.concatenate((gap[:3],y_naive[:1005],gap[:1008],gap[1008:2016]))\n",
    "figure(3,figsize=(8, 6))\n",
    "plot(gap - ts_naive)\n",
    "plt.title('Naive ResidualR')\n",
    "figure(4,figsize=(8, 6))\n",
    "plot(gap-ts_avg)\n",
    "plt.title('Average R')\n",
    "figure(5,figsize=(8, 6))\n",
    "plot(gap[0:3024]-ts_season_naive)\n",
    "plt.title('Seasonal Naive R')\n",
    "\n",
    "print 'Average: {}'.format(norm(ts_avg[0:3024] - gap[0:3024],1))\n",
    "print 'Naive: {}'.format(norm(ts_naive[0:3024] - gap[0:3024],1))\n",
    "print 'Seasonal Naive: {}'.format(norm(ts_season_naive - gap[0:3024],1))"
   ]
  },
  {
   "cell_type": "code",
   "execution_count": null,
   "metadata": {
    "collapsed": true
   },
   "outputs": [],
   "source": []
  }
 ],
 "metadata": {
  "kernelspec": {
   "display_name": "Python 2",
   "language": "python",
   "name": "python2"
  },
  "language_info": {
   "codemirror_mode": {
    "name": "ipython",
    "version": 2
   },
   "file_extension": ".py",
   "mimetype": "text/x-python",
   "name": "python",
   "nbconvert_exporter": "python",
   "pygments_lexer": "ipython2",
   "version": "2.7.11"
  }
 },
 "nbformat": 4,
 "nbformat_minor": 0
}
